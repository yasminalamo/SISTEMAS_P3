{
  "nbformat": 4,
  "nbformat_minor": 0,
  "metadata": {
    "colab": {
      "provenance": [],
      "include_colab_link": true
    },
    "kernelspec": {
      "name": "python3",
      "display_name": "Python 3"
    },
    "language_info": {
      "name": "python"
    }
  },
  "cells": [
    {
      "cell_type": "markdown",
      "metadata": {
        "id": "view-in-github",
        "colab_type": "text"
      },
      "source": [
        "<a href=\"https://colab.research.google.com/github/yasminalamo/SISTEMAS_P3/blob/main/PRACTICA03.ipynb\" target=\"_parent\"><img src=\"https://colab.research.google.com/assets/colab-badge.svg\" alt=\"Open In Colab\"/></a>"
      ]
    },
    {
      "cell_type": "markdown",
      "source": [
        "## CARGAR DATOS"
      ],
      "metadata": {
        "id": "cWiILVX0AAA8"
      }
    },
    {
      "cell_type": "code",
      "source": [
        "import random\n",
        "datos= \"/content/datos_enfermeria.txt\"\n",
        "lista_ID=[] # Lista con los ID de los enfermeros\n",
        "lista_pref = [] #Lista con las preferencias de cada enfermero\n",
        "with open(datos, 'r') as archivo:\n",
        "    for linea in archivo:\n",
        "        nombre = linea[:6]\n",
        "        lista_ID.append(nombre)\n",
        "        pref = linea[6:11]\n",
        "        lista_pref.append(pref)\n",
        "\n",
        "enfermeros = lista_ID[1:]\n",
        "preferencias = lista_pref[1:]\n",
        "# Creamos un diccionario con el ID de cada enfermero y una lista de números binarios aleatorios\n",
        "dic_turnos = {i: [random.randint(0, 1) for _ in range(21)] for i in lista_pref}\n",
        "print(preferencias)\n",
        "print(enfermeros)"
      ],
      "metadata": {
        "id": "KPfBQZJqAKqF",
        "colab": {
          "base_uri": "https://localhost:8080/"
        },
        "outputId": "0f6d7ff1-c077-44e0-dfc2-6d439cccec04"
      },
      "execution_count": null,
      "outputs": [
        {
          "output_type": "stream",
          "name": "stdout",
          "text": [
            "['1 1 0', '1 1 0', '1 1 1', '1 1 1', '0 1 1', '1 1 1', '1 1 1', '1 1 1', '1 1 1', '1 1 1', '1 1 1', '1 1 0']\n",
            "['Enf_A ', 'Enf_B ', 'Enf_C ', 'Enf_D ', 'Enf_E ', 'Enf_F ', 'Enf_G ', 'Enf_H ', 'Enf_I ', 'Enf_J ', 'Enf_K ', 'Enf_L ']\n"
          ]
        }
      ]
    },
    {
      "cell_type": "code",
      "source": [
        "from turnosenfermeria import TurnosEnfermeria\n",
        "\n",
        "turno = TurnosEnfermeria(enfermeros,preferencias,7)\n",
        "print(turno.__len__())\n",
        "print(turno.countInfracionesTurnosMismoDia(dic_turnos))\n",
        "print(turno.countInfracionesTurnosConsecutivos(dic_turnos))\n",
        "print(turno.countInfraccionesTurnosPorSemana(dic_turnos))\n",
        "print(turno.countInfraccionesEnfermerPorTurno(dic_turnos))\n",
        "print(turno.countInfraccionesPreferenciaTurnos(dic_turnos))"
      ],
      "metadata": {
        "id": "-AD9OeuTnKFx",
        "colab": {
          "base_uri": "https://localhost:8080/",
          "height": 384
        },
        "outputId": "5a9818a3-9bb9-43f0-bf50-a54eb7510220"
      },
      "execution_count": null,
      "outputs": [
        {
          "output_type": "error",
          "ename": "ModuleNotFoundError",
          "evalue": "ignored",
          "traceback": [
            "\u001b[0;31m---------------------------------------------------------------------------\u001b[0m",
            "\u001b[0;31mModuleNotFoundError\u001b[0m                       Traceback (most recent call last)",
            "\u001b[0;32m<ipython-input-7-b74179e55f40>\u001b[0m in \u001b[0;36m<cell line: 1>\u001b[0;34m()\u001b[0m\n\u001b[0;32m----> 1\u001b[0;31m \u001b[0;32mfrom\u001b[0m \u001b[0mturnosenfermeria\u001b[0m \u001b[0;32mimport\u001b[0m \u001b[0mTurnosEnfermeria\u001b[0m\u001b[0;34m\u001b[0m\u001b[0;34m\u001b[0m\u001b[0m\n\u001b[0m\u001b[1;32m      2\u001b[0m \u001b[0;34m\u001b[0m\u001b[0m\n\u001b[1;32m      3\u001b[0m \u001b[0mturno\u001b[0m \u001b[0;34m=\u001b[0m \u001b[0mTurnosEnfermeria\u001b[0m\u001b[0;34m(\u001b[0m\u001b[0menfermeros\u001b[0m\u001b[0;34m,\u001b[0m\u001b[0mpreferencias\u001b[0m\u001b[0;34m,\u001b[0m\u001b[0;36m7\u001b[0m\u001b[0;34m)\u001b[0m\u001b[0;34m\u001b[0m\u001b[0;34m\u001b[0m\u001b[0m\n\u001b[1;32m      4\u001b[0m \u001b[0mprint\u001b[0m\u001b[0;34m(\u001b[0m\u001b[0mturno\u001b[0m\u001b[0;34m.\u001b[0m\u001b[0m__len__\u001b[0m\u001b[0;34m(\u001b[0m\u001b[0;34m)\u001b[0m\u001b[0;34m)\u001b[0m\u001b[0;34m\u001b[0m\u001b[0;34m\u001b[0m\u001b[0m\n\u001b[1;32m      5\u001b[0m \u001b[0mprint\u001b[0m\u001b[0;34m(\u001b[0m\u001b[0mturno\u001b[0m\u001b[0;34m.\u001b[0m\u001b[0mcountInfracionesTurnosMismoDia\u001b[0m\u001b[0;34m(\u001b[0m\u001b[0mdic_turnos\u001b[0m\u001b[0;34m)\u001b[0m\u001b[0;34m)\u001b[0m\u001b[0;34m\u001b[0m\u001b[0;34m\u001b[0m\u001b[0m\n",
            "\u001b[0;31mModuleNotFoundError\u001b[0m: No module named 'turnosenfermeria'",
            "",
            "\u001b[0;31m---------------------------------------------------------------------------\u001b[0;32m\nNOTE: If your import is failing due to a missing package, you can\nmanually install dependencies using either !pip or !apt.\n\nTo view examples of installing some common dependencies, click the\n\"Open Examples\" button below.\n\u001b[0;31m---------------------------------------------------------------------------\u001b[0m\n"
          ],
          "errorDetails": {
            "actions": [
              {
                "action": "open_url",
                "actionText": "Open Examples",
                "url": "/notebooks/snippets/importing_libraries.ipynb"
              }
            ]
          }
        }
      ]
    },
    {
      "cell_type": "markdown",
      "source": [
        "## FUNCIONES A IMPLMENTAR"
      ],
      "metadata": {
        "id": "cnd2IPj3-YN2"
      }
    },
    {
      "cell_type": "code",
      "source": [
        "import numpy as np\n",
        "\n",
        "\n",
        "class TurnosEnfermeria:\n",
        "\n",
        "    def __init__(self, enfermers, preferencias, factorPenalizacionRestriccionDura,numSemanas=1):\n",
        "        \"\"\"\n",
        "        :params\n",
        "                enfermers: lista con los nombres de cada miembro del equipo de enfermería\n",
        "                preferencias: lista con las preferencias de turnos de cada uno de los miembros del equipo de enfermería.\n",
        "                factorPenalizacionRestriccionDura: factor de penalización para las restricciones \"duras\"\n",
        "                numSemanas: numero de semanas sobre las que se quiere crear el calendario.\n",
        "        \"\"\"\n",
        "        self.factorPenalizacionRestriccionDura = factorPenalizacionRestriccionDura\n",
        "\n",
        "        '''\n",
        "            Estas constantes las tiene que leer de un archivo de configuración\n",
        "        '''\n",
        "        # lista de enfermera/os:\n",
        "        self.enfermers = enfermers\n",
        "\n",
        "        # preferencia de cada una de la/os enfermera/os [mañana,tarde,noche]:\n",
        "        self.preferenciaTurnos = preferencias\n",
        "\n",
        "        # minimo y maximo de turnos necesarios para mantener el servicio [mañana,tarde,noche]\n",
        "        self.minTurnosDia = [4, 3, 2]\n",
        "        self.maxTurnosDia = [5, 4, 2]\n",
        "\n",
        "        # máximo numero de turnos por semana de cada enfermera/o\n",
        "        self.maxTurnosSemana = 5\n",
        "\n",
        "        # número de semanas sobre las que se quiere crear el calendario:\n",
        "        self.semanas = numSemanas\n",
        "\n",
        "        # numero de turnos por día:\n",
        "        self.turnosPorDia = len(self.minTurnosDia)\n",
        "\n",
        "        # numero de turnos por semana:\n",
        "        self.turnosPorSemana = 7 * self.turnosPorDia\n",
        "\n",
        "    def __len__(self):\n",
        "        \"\"\"\n",
        "        :return: el número de turnos en el calendario\n",
        "        \"\"\"\n",
        "        return len(self.enfermers) * self.turnosPorSemana * self.semanas\n",
        "\n",
        "\n",
        "    def getCoste(self, calendario):\n",
        "        \"\"\"\n",
        "        Calcula el coste total de las infraciones que se produzcan en el calendario.\n",
        "        ...\n",
        "        :param calendario: lista de valores binarios que describen un calendario.\n",
        "        :return: el coste total (tupla)\n",
        "        \"\"\"\n",
        "\n",
        "        if len(calendario) != self.__len__():\n",
        "            raise ValueError(\"el tamaño del calendario debe ser igual a: \", self.__len__())\n",
        "\n",
        "        # convert entire schedule into a dictionary with a separate schedule for each nurse:\n",
        "        turnosEnfermDict = self.getTurnosEnfermeria(calendario)\n",
        "\n",
        "        # count the various violations:\n",
        "        infracionesTurnosConsecutivos = self.countInfracionesTurnosConsecutivos(turnosEnfermDict)\n",
        "        infraccionesTurnosPorSemana = self.countInfraccionesTurnosPorSemana(turnosEnfermDict)[1]\n",
        "        infraccionesEnfermerPorTurno = self.countInfraccionesEnfermerPorTurno(turnosEnfermDict)[1]\n",
        "        infraccionesPreferenciaTurnos = self.countInfraccionesPreferenciaTurnos(turnosEnfermDict)[1]\n",
        "\n",
        "        # calculate the cost of the violations:\n",
        "        infraccionesRestriccionesHard = infracionesTurnosConsecutivos + infraccionesEnfermerPorTurno + infraccionesTurnosPorSemana\n",
        "        infraccionesRestriccionesSoft = infraccionesPreferenciaTurnos\n",
        "\n",
        "        return self.factorPenalizacionRestriccionDura * infraccionesRestriccionesHard + infraccionesRestriccionesSoft,\n",
        "\n",
        "    def getTurnosEnfermeria(self, calendario):\n",
        "        \"\"\"\n",
        "        Convierte el calendario en un diccionario con un calendario específico para cada enfermer@\n",
        "        :param calendario: lista de valores binarios en los que se encuentran los datos del calendario\n",
        "        :return: un diccionario con el ID de cada enfermer@ como clave y sus turnos correspondientes como valor.\n",
        "        \"\"\"\n",
        "        turnoPorEnfermer = self.__len__() // len(self.enfermers)\n",
        "        turnosEnfermDict = {}\n",
        "        indiceTurno = 0\n",
        "\n",
        "        for enfermer in self.enfermers:\n",
        "            turnosEnfermDict[enfermer] = calendario[indiceTurno:indiceTurno + turnoPorEnfermer]\n",
        "            indiceTurno += turnoPorEnfermer\n",
        "\n",
        "        return turnosEnfermDict\n",
        "\n",
        "    def countInfracionesTurnosConsecutivos(self, turnosEnfermDict):\n",
        "\n",
        "        \"\"\"\n",
        "        Cuenta el numero de infracciones por turnos consecutivos que se encuentrarn en un calendario\n",
        "        :param turnosEnfermDict: diccionario con el turno específico de un enfermer@\n",
        "        :return: numero de infracciones encontradas\n",
        "        \"\"\"\n",
        "        infracciones = 0\n",
        "        # interamos en cada enfermer@\n",
        "        for turnosEnferm in turnosEnfermDict.values():\n",
        "            # buscamos dos 1s consecutivos:\n",
        "            for turno1, turno2 in zip(turnosEnferm, turnosEnferm[1:]):\n",
        "                if turno1 == 1 and turno2 == 1:\n",
        "                    infracciones += 1\n",
        "        return infracciones\n",
        "\n",
        "    def countInfracionesTurnosMismoDia(self, turnosEnfermDict):\n",
        "\n",
        "        \"\"\"\n",
        "        Cuenta el numero de infracciones por turnos consecutivos que se encuentrarn en un calendario\n",
        "        :param turnosEnfermDict: diccionario con el turno específico de un enfermer@\n",
        "        :return: numero de infracciones encontradas\n",
        "        \"\"\"\n",
        "        infracciones = 0\n",
        "        # interamos en cada enfermer@\n",
        "        for turnosEnferm in turnosEnfermDict.values():\n",
        "            # buscamos dos 1s consecutivos:\n",
        "            for turno1, turno2 in zip(turnosEnferm, turnosEnferm[1:]):\n",
        "                if turno1 == 1 and turno2 == 1:\n",
        "                    infracciones += 1\n",
        "        return infracciones\n",
        "\n",
        "    def countInfraccionesTurnosPorSemana(self, turnosEnfermDict):\n",
        "        \"\"\"\n",
        "        Cuenta el numero de infracciones debidas al maximo numero de turnos por semana\n",
        "        :param turnosEnfermDict: diccionario con el turno específico de un enfermer@\n",
        "        :return: numero de infracciones encontradas\n",
        "        \"\"\"\n",
        "        infracciones = 0\n",
        "        listaTurnosSemanales = []\n",
        "        for turnosEnferm in turnosEnfermDict.values():\n",
        "            for i in range(0, self.semanas * self.turnosPorSemana, self.turnosPorSemana):\n",
        "                turnosSemanales = sum(turnosEnferm[i:i + self.turnosPorSemana])\n",
        "                listaTurnosSemanales.append(turnosSemanales)\n",
        "                if turnosSemanales > self.maxTurnosSemana:\n",
        "                    infracciones += turnosSemanales - self.maxTurnosSemana\n",
        "\n",
        "        return listaTurnosSemanales, infracciones\n",
        "\n",
        "    def countInfraccionesEnfermerPorTurno(self, turnosEnfermDict):\n",
        "        \"\"\"\n",
        "        Cuenta el numero de infracciones debidas al numero de enfermer@s por turno\n",
        "        :param turnosEnfermDict: diccionario con el turno específico de un enfermer@\n",
        "        :return: numero de infracciones encontradas\n",
        "        \"\"\"\n",
        "        # sumamos los turnos de todas las enfermeras:\n",
        "        listaTotalPorTurno = [sum(turno) for turno in zip(*turnosEnfermDict.values())]\n",
        "\n",
        "        infracciones = 0\n",
        "        # iteramos en los turnos y obtenemos las infracciones:\n",
        "        for indiceTurno, numDeEnfermer in enumerate(listaTotalPorTurno):\n",
        "            indiceTurnoDiario = indiceTurno % self.turnosPorDia  # -> 0, 1, o 2 para los tres turnos al dia\n",
        "            if (numDeEnfermer > self.maxTurnosDia[indiceTurnoDiario]):\n",
        "                infracciones += numDeEnfermer - self.maxTurnosDia[indiceTurnoDiario]\n",
        "            elif (numDeEnfermer < self.minTurnosDia[indiceTurnoDiario]):\n",
        "                infracciones += self.minTurnosDia[indiceTurnoDiario] - numDeEnfermer\n",
        "\n",
        "        return listaTotalPorTurno, infracciones\n",
        "\n",
        "    def countInfraccionesPreferenciaTurnos(self, turnosEnfermDict):\n",
        "        \"\"\"\n",
        "        Cuenta el numero de infracciones debidas a las preferencias de turno de cada enfermer@\n",
        "        :param turnosEnfermDict: diccionario con el turno específico de un enfermer@\n",
        "        :return: numero de infracciones encontradas\n",
        "        \"\"\"\n",
        "        listaInfraccionesPreferencias = []\n",
        "        infracciones = 0\n",
        "        for indiceEnfermer, turnoPreferencia in enumerate(self.preferenciaTurnos):\n",
        "            # se incluye la preferencia de turnos a lo largo de todo el calendario\n",
        "            preferencia = turnoPreferencia * (self.turnosPorSemana // self.turnosPorDia)\n",
        "            turnos = turnosEnfermDict[self.enfermers[indiceEnfermer]]\n",
        "            listaInfraccionesPreferencias.append(0)\n",
        "            for pref, turno in zip(preferencia, turnos):\n",
        "                if pref == 0 and turno == 1:\n",
        "                    infracciones += 1\n",
        "                    listaInfraccionesPreferencias[indiceEnfermer]+=1\n",
        "\n",
        "        return listaInfraccionesPreferencias, infracciones\n",
        "\n",
        "    def mostrarInfoCalendario(self, calendario):\n",
        "        \"\"\"\n",
        "        Imprime los detalles del calendario y las infracciones de ese calendario\n",
        "        :param calendario: lista de valores binarios que describen un calendario.\n",
        "        \"\"\"\n",
        "        diccionarioEnfermers = self.getTurnosEnfermeria(calendario)\n",
        "\n",
        "        print(\"Calendario de cada enfermer@:\")\n",
        "        for enferm in diccionarioEnfermers:\n",
        "            turnosTotalesEnfer=diccionarioEnfermers[enferm]\n",
        "            indiceTurno=0\n",
        "            cadenaTurnos=\"\"\n",
        "            for _ in range((7 * self.semanas)-1):\n",
        "                turno=turnosTotalesEnfer[indiceTurno:indiceTurno+self.turnosPorDia]\n",
        "                if turno[0]==1:\n",
        "                    cadenaTurnos=cadenaTurnos+\"M \"\n",
        "                elif turno[1]==1:\n",
        "                    cadenaTurnos=cadenaTurnos+\"T \"\n",
        "                elif turno[2]==1:\n",
        "                    cadenaTurnos=cadenaTurnos+\"N \"\n",
        "                else:\n",
        "                    cadenaTurnos=cadenaTurnos+\"L \"\n",
        "                indiceTurno+=self.turnosPorDia\n",
        "            print(enferm, \":\", cadenaTurnos)\n",
        "        print()\n",
        "        print(\"Infracciones por turnos consecutivos = \", self.countInfracionesTurnosConsecutivos(diccionarioEnfermers))\n",
        "        print()\n",
        "\n",
        "        listaInfraccionesTurnosPorSemana, infracciones = self.countInfraccionesTurnosPorSemana(diccionarioEnfermers)\n",
        "        print(\"Turnos por semana = \", listaInfraccionesTurnosPorSemana)\n",
        "        print(\"Infracciones de turnos por semana = \", infracciones)\n",
        "        print()\n",
        "\n",
        "        listaInfraccionesEnfermerPorTurno, infracciones = self.countInfraccionesEnfermerPorTurno(diccionarioEnfermers)\n",
        "        print(\"Enfermer@ por turno = \", listaInfraccionesEnfermerPorTurno)\n",
        "        print(\"Infracciones por enfermer@ por turno = \", infracciones)\n",
        "        print()\n",
        "\n",
        "        listaInfraccionesPreferenciaTurnos, infracciones = self.countInfraccionesPreferenciaTurnos(diccionarioEnfermers)\n",
        "        print(\"Preferencias no cumplidas: \",listaInfraccionesPreferenciaTurnos)\n",
        "        print(\"Infracciones por preferencias de turnos = \", infracciones)\n",
        "        print()"
      ],
      "metadata": {
        "id": "QRoG-oS3-mJA"
      },
      "execution_count": null,
      "outputs": []
    },
    {
      "cell_type": "code",
      "source": [
        "!pip install deap\n",
        "import deap\n",
        "from deap import tools, base\n",
        "toolbox=base.Toolbox()\n",
        "\n",
        "def ceroOrUno():\n",
        "    import random\n",
        "    return random.randint(0,1)\n",
        "\n",
        "toolbox.register(\"individual\",tools.initRepeat,list,ceroOrUno,3)\n",
        "individuo=toolbox.individual()\n",
        "print(individuo)\n",
        "import random\n",
        "from deap import creator, base, tools\n",
        "\n",
        "toolbox=base.Toolbox()\n",
        "#Creamos la clase individuo\n",
        "creator.create(\"AjusteMax\", base.Fitness, weights=(1.0,))\n",
        "creator.create(\"Individuo\",list, fitness=creator.AjusteMax)\n",
        "#creamos la función individual, que va a devolver creator.Individuo que\n",
        "#en realidad es una lista con atributos:\n",
        "toolbox.register(\"ceroOrUno\",random.randint,0,1)\n",
        "toolbox.register(\"individual\",tools.initRepeat,creator.Individuo,toolbox.ceroOrUno,3)\n",
        "toolbox.register(\"population\",tools.initRepeat,list,toolbox.individual,21)\n",
        "poblacion=toolbox.population()\n",
        "print(poblacion)"
      ],
      "metadata": {
        "id": "_WKjMvYZybFU",
        "colab": {
          "base_uri": "https://localhost:8080/"
        },
        "outputId": "697ab01e-d767-4488-9667-09bbeef8471c"
      },
      "execution_count": null,
      "outputs": [
        {
          "output_type": "stream",
          "name": "stdout",
          "text": [
            "Collecting deap\n",
            "  Downloading deap-1.4.1-cp310-cp310-manylinux_2_5_x86_64.manylinux1_x86_64.manylinux_2_17_x86_64.manylinux2014_x86_64.whl (135 kB)\n",
            "\u001b[?25l     \u001b[90m━━━━━━━━━━━━━━━━━━━━━━━━━━━━━━━━━━━━━━━━\u001b[0m \u001b[32m0.0/135.4 kB\u001b[0m \u001b[31m?\u001b[0m eta \u001b[36m-:--:--\u001b[0m\r\u001b[2K     \u001b[91m━━━━━━━━━━━━━━━━━━━━━━━━\u001b[0m\u001b[90m╺\u001b[0m\u001b[90m━━━━━━━━━━━━━━━\u001b[0m \u001b[32m81.9/135.4 kB\u001b[0m \u001b[31m2.3 MB/s\u001b[0m eta \u001b[36m0:00:01\u001b[0m\r\u001b[2K     \u001b[90m━━━━━━━━━━━━━━━━━━━━━━━━━━━━━━━━━━━━━━━━\u001b[0m \u001b[32m135.4/135.4 kB\u001b[0m \u001b[31m2.6 MB/s\u001b[0m eta \u001b[36m0:00:00\u001b[0m\n",
            "\u001b[?25hRequirement already satisfied: numpy in /usr/local/lib/python3.10/dist-packages (from deap) (1.23.5)\n",
            "Installing collected packages: deap\n",
            "Successfully installed deap-1.4.1\n",
            "[1, 0, 0]\n",
            "[[1, 1, 1], [1, 1, 0], [1, 0, 0], [0, 1, 1], [1, 0, 1], [1, 0, 0], [1, 1, 0], [0, 1, 1], [0, 1, 1], [0, 0, 0], [0, 1, 0], [0, 1, 0], [0, 0, 1], [1, 1, 0], [1, 1, 1], [1, 1, 1], [0, 1, 1], [1, 0, 1], [1, 0, 1], [0, 0, 1], [1, 1, 1]]\n"
          ]
        }
      ]
    },
    {
      "cell_type": "markdown",
      "source": [
        "## TURNOS DE LOS ENFERMEROS"
      ],
      "metadata": {
        "id": "eWHIMyFa_aN3"
      }
    },
    {
      "cell_type": "code",
      "source": [],
      "metadata": {
        "id": "66VAJcQh_v59"
      },
      "execution_count": null,
      "outputs": []
    }
  ]
}